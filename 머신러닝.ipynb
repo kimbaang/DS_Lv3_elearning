{
 "cells": [
  {
   "cell_type": "code",
   "execution_count": 1,
   "id": "43b7bb96",
   "metadata": {},
   "outputs": [
    {
     "data": {
      "text/html": [
       "<div>\n",
       "<style scoped>\n",
       "    .dataframe tbody tr th:only-of-type {\n",
       "        vertical-align: middle;\n",
       "    }\n",
       "\n",
       "    .dataframe tbody tr th {\n",
       "        vertical-align: top;\n",
       "    }\n",
       "\n",
       "    .dataframe thead th {\n",
       "        text-align: right;\n",
       "    }\n",
       "</style>\n",
       "<table border=\"1\" class=\"dataframe\">\n",
       "  <thead>\n",
       "    <tr style=\"text-align: right;\">\n",
       "      <th></th>\n",
       "      <th>Sex</th>\n",
       "      <th>Length</th>\n",
       "      <th>Diameter</th>\n",
       "      <th>Height</th>\n",
       "      <th>Whole</th>\n",
       "      <th>Shucked</th>\n",
       "      <th>Viscera</th>\n",
       "      <th>Shell</th>\n",
       "      <th>Rings</th>\n",
       "    </tr>\n",
       "  </thead>\n",
       "  <tbody>\n",
       "    <tr>\n",
       "      <th>0</th>\n",
       "      <td>M</td>\n",
       "      <td>0.455</td>\n",
       "      <td>0.365</td>\n",
       "      <td>0.095</td>\n",
       "      <td>0.5140</td>\n",
       "      <td>0.2245</td>\n",
       "      <td>0.1010</td>\n",
       "      <td>0.150</td>\n",
       "      <td>15</td>\n",
       "    </tr>\n",
       "    <tr>\n",
       "      <th>1</th>\n",
       "      <td>M</td>\n",
       "      <td>0.350</td>\n",
       "      <td>0.265</td>\n",
       "      <td>0.090</td>\n",
       "      <td>0.2255</td>\n",
       "      <td>0.0995</td>\n",
       "      <td>0.0485</td>\n",
       "      <td>0.070</td>\n",
       "      <td>7</td>\n",
       "    </tr>\n",
       "    <tr>\n",
       "      <th>2</th>\n",
       "      <td>F</td>\n",
       "      <td>0.530</td>\n",
       "      <td>0.420</td>\n",
       "      <td>0.135</td>\n",
       "      <td>0.6770</td>\n",
       "      <td>0.2565</td>\n",
       "      <td>0.1415</td>\n",
       "      <td>0.210</td>\n",
       "      <td>9</td>\n",
       "    </tr>\n",
       "    <tr>\n",
       "      <th>3</th>\n",
       "      <td>M</td>\n",
       "      <td>0.440</td>\n",
       "      <td>0.365</td>\n",
       "      <td>0.125</td>\n",
       "      <td>0.5160</td>\n",
       "      <td>0.2155</td>\n",
       "      <td>0.1140</td>\n",
       "      <td>0.155</td>\n",
       "      <td>10</td>\n",
       "    </tr>\n",
       "    <tr>\n",
       "      <th>4</th>\n",
       "      <td>I</td>\n",
       "      <td>0.330</td>\n",
       "      <td>0.255</td>\n",
       "      <td>0.080</td>\n",
       "      <td>0.2050</td>\n",
       "      <td>0.0895</td>\n",
       "      <td>0.0395</td>\n",
       "      <td>0.055</td>\n",
       "      <td>7</td>\n",
       "    </tr>\n",
       "  </tbody>\n",
       "</table>\n",
       "</div>"
      ],
      "text/plain": [
       "  Sex  Length  Diameter  Height   Whole  Shucked  Viscera  Shell  Rings\n",
       "0   M   0.455     0.365   0.095  0.5140   0.2245   0.1010  0.150     15\n",
       "1   M   0.350     0.265   0.090  0.2255   0.0995   0.0485  0.070      7\n",
       "2   F   0.530     0.420   0.135  0.6770   0.2565   0.1415  0.210      9\n",
       "3   M   0.440     0.365   0.125  0.5160   0.2155   0.1140  0.155     10\n",
       "4   I   0.330     0.255   0.080  0.2050   0.0895   0.0395  0.055      7"
      ]
     },
     "execution_count": 1,
     "metadata": {},
     "output_type": "execute_result"
    }
   ],
   "source": [
    "import numpy as np\n",
    "import pandas as pd\n",
    "\n",
    "import matplotlib as mpl\n",
    "import matplotlib.pyplot as plt\n",
    "import seaborn as sns\n",
    "\n",
    "df_abalone = pd.read_csv('data/abalone.csv')\n",
    "df_abalone.head()"
   ]
  },
  {
   "cell_type": "code",
   "execution_count": 2,
   "id": "153940a2",
   "metadata": {},
   "outputs": [],
   "source": [
    "a, b= 1, 5\n",
    "X = np.random.random(size=100) * 10\n",
    "y = X * a + b + np.random.normal(size=100)"
   ]
  },
  {
   "cell_type": "code",
   "execution_count": 3,
   "id": "7645a30a",
   "metadata": {},
   "outputs": [
    {
     "data": {
      "text/html": [
       "<div>\n",
       "<style scoped>\n",
       "    .dataframe tbody tr th:only-of-type {\n",
       "        vertical-align: middle;\n",
       "    }\n",
       "\n",
       "    .dataframe tbody tr th {\n",
       "        vertical-align: top;\n",
       "    }\n",
       "\n",
       "    .dataframe thead th {\n",
       "        text-align: right;\n",
       "    }\n",
       "</style>\n",
       "<table border=\"1\" class=\"dataframe\">\n",
       "  <thead>\n",
       "    <tr style=\"text-align: right;\">\n",
       "      <th></th>\n",
       "      <th>X</th>\n",
       "      <th>y</th>\n",
       "      <th>y_hat</th>\n",
       "      <th>error</th>\n",
       "      <th>absolute_error</th>\n",
       "      <th>squared_error</th>\n",
       "    </tr>\n",
       "  </thead>\n",
       "  <tbody>\n",
       "    <tr>\n",
       "      <th>0</th>\n",
       "      <td>2.109345</td>\n",
       "      <td>7.286139</td>\n",
       "      <td>7.109345</td>\n",
       "      <td>0.176794</td>\n",
       "      <td>0.176794</td>\n",
       "      <td>0.031256</td>\n",
       "    </tr>\n",
       "    <tr>\n",
       "      <th>1</th>\n",
       "      <td>4.155836</td>\n",
       "      <td>8.142500</td>\n",
       "      <td>9.155836</td>\n",
       "      <td>-1.013336</td>\n",
       "      <td>1.013336</td>\n",
       "      <td>1.026851</td>\n",
       "    </tr>\n",
       "    <tr>\n",
       "      <th>2</th>\n",
       "      <td>8.482934</td>\n",
       "      <td>15.125248</td>\n",
       "      <td>13.482934</td>\n",
       "      <td>1.642313</td>\n",
       "      <td>1.642313</td>\n",
       "      <td>2.697194</td>\n",
       "    </tr>\n",
       "    <tr>\n",
       "      <th>3</th>\n",
       "      <td>7.719945</td>\n",
       "      <td>10.242150</td>\n",
       "      <td>12.719945</td>\n",
       "      <td>-2.477796</td>\n",
       "      <td>2.477796</td>\n",
       "      <td>6.139472</td>\n",
       "    </tr>\n",
       "    <tr>\n",
       "      <th>4</th>\n",
       "      <td>6.451890</td>\n",
       "      <td>12.377333</td>\n",
       "      <td>11.451890</td>\n",
       "      <td>0.925443</td>\n",
       "      <td>0.925443</td>\n",
       "      <td>0.856444</td>\n",
       "    </tr>\n",
       "    <tr>\n",
       "      <th>...</th>\n",
       "      <td>...</td>\n",
       "      <td>...</td>\n",
       "      <td>...</td>\n",
       "      <td>...</td>\n",
       "      <td>...</td>\n",
       "      <td>...</td>\n",
       "    </tr>\n",
       "    <tr>\n",
       "      <th>95</th>\n",
       "      <td>9.373093</td>\n",
       "      <td>14.810884</td>\n",
       "      <td>14.373093</td>\n",
       "      <td>0.437791</td>\n",
       "      <td>0.437791</td>\n",
       "      <td>0.191661</td>\n",
       "    </tr>\n",
       "    <tr>\n",
       "      <th>96</th>\n",
       "      <td>6.194684</td>\n",
       "      <td>10.188406</td>\n",
       "      <td>11.194684</td>\n",
       "      <td>-1.006278</td>\n",
       "      <td>1.006278</td>\n",
       "      <td>1.012595</td>\n",
       "    </tr>\n",
       "    <tr>\n",
       "      <th>97</th>\n",
       "      <td>7.476520</td>\n",
       "      <td>11.933136</td>\n",
       "      <td>12.476520</td>\n",
       "      <td>-0.543383</td>\n",
       "      <td>0.543383</td>\n",
       "      <td>0.295266</td>\n",
       "    </tr>\n",
       "    <tr>\n",
       "      <th>98</th>\n",
       "      <td>5.801961</td>\n",
       "      <td>10.696426</td>\n",
       "      <td>10.801961</td>\n",
       "      <td>-0.105535</td>\n",
       "      <td>0.105535</td>\n",
       "      <td>0.011138</td>\n",
       "    </tr>\n",
       "    <tr>\n",
       "      <th>99</th>\n",
       "      <td>0.880973</td>\n",
       "      <td>5.423739</td>\n",
       "      <td>5.880973</td>\n",
       "      <td>-0.457233</td>\n",
       "      <td>0.457233</td>\n",
       "      <td>0.209062</td>\n",
       "    </tr>\n",
       "  </tbody>\n",
       "</table>\n",
       "<p>100 rows × 6 columns</p>\n",
       "</div>"
      ],
      "text/plain": [
       "           X          y      y_hat     error  absolute_error  squared_error\n",
       "0   2.109345   7.286139   7.109345  0.176794        0.176794       0.031256\n",
       "1   4.155836   8.142500   9.155836 -1.013336        1.013336       1.026851\n",
       "2   8.482934  15.125248  13.482934  1.642313        1.642313       2.697194\n",
       "3   7.719945  10.242150  12.719945 -2.477796        2.477796       6.139472\n",
       "4   6.451890  12.377333  11.451890  0.925443        0.925443       0.856444\n",
       "..       ...        ...        ...       ...             ...            ...\n",
       "95  9.373093  14.810884  14.373093  0.437791        0.437791       0.191661\n",
       "96  6.194684  10.188406  11.194684 -1.006278        1.006278       1.012595\n",
       "97  7.476520  11.933136  12.476520 -0.543383        0.543383       0.295266\n",
       "98  5.801961  10.696426  10.801961 -0.105535        0.105535       0.011138\n",
       "99  0.880973   5.423739   5.880973 -0.457233        0.457233       0.209062\n",
       "\n",
       "[100 rows x 6 columns]"
      ]
     },
     "execution_count": 3,
     "metadata": {},
     "output_type": "execute_result"
    }
   ],
   "source": [
    "pd.DataFrame(\n",
    "    {'X': X, 'y': y}\n",
    ").assign(\n",
    "    y_hat = lambda x: X * a + b\n",
    ").assign(\n",
    "    error = lambda x: x['y'] - x['y_hat'] # error\n",
    ").assign(\n",
    "    absolute_error = lambda x: x['error'].abs(),\n",
    "    squared_error = lambda x: x['error'] ** 2\n",
    ")"
   ]
  },
  {
   "cell_type": "code",
   "execution_count": 5,
   "id": "32ce6d3b",
   "metadata": {},
   "outputs": [
    {
     "data": {
      "text/plain": [
       "(3341, 836)"
      ]
     },
     "execution_count": 5,
     "metadata": {},
     "output_type": "execute_result"
    }
   ],
   "source": [
    "from sklearn.model_selection import train_test_split\n",
    "\n",
    "df_train, df_test = train_test_split(df_abalone, test_size=0.2, stratify=df_abalone['Sex'], random_state=123)\n",
    "len(df_train), len(df_test)"
   ]
  },
  {
   "cell_type": "code",
   "execution_count": 15,
   "id": "3975382c",
   "metadata": {},
   "outputs": [
    {
     "data": {
      "text/plain": [
       "M    0.365759\n",
       "I    0.321161\n",
       "F    0.313080\n",
       "Name: Sex, dtype: float64"
      ]
     },
     "execution_count": 15,
     "metadata": {},
     "output_type": "execute_result"
    }
   ],
   "source": [
    "df_train['Sex'].value_counts()/len(df_train['Sex'])"
   ]
  },
  {
   "cell_type": "code",
   "execution_count": 16,
   "id": "677ea314",
   "metadata": {},
   "outputs": [
    {
     "data": {
      "text/plain": [
       "M    0.366029\n",
       "I    0.321770\n",
       "F    0.312201\n",
       "Name: Sex, dtype: float64"
      ]
     },
     "execution_count": 16,
     "metadata": {},
     "output_type": "execute_result"
    }
   ],
   "source": [
    "df_test['Sex'].value_counts()/len(df_test['Sex'])"
   ]
  },
  {
   "cell_type": "code",
   "execution_count": 24,
   "id": "5acf1f8b",
   "metadata": {},
   "outputs": [],
   "source": [
    "from sklearn.model_selection import StratifiedKFold, ShuffleSplit, cross_validate\n",
    "from sklearn.pipeline import make_pipeline \n",
    "from sklearn.preprocessing import StandardScaler \n",
    "from sklearn.metrics import accuracy_score \n",
    "\n",
    "y_target = 'Sex'\n",
    "X_cols = [i for i in df_train.columns if i != y_target] # y_target 빼고 모든 columns\n",
    "# 5-fold stratified cv  \n",
    "cv = StratifiedKFold(n_splits=5, random_state=123, shuffle=True)\n",
    "\n",
    "def eval_model(clf):\n",
    "    # clf: model\n",
    "    result = cross_validate(clf, df_train[X_cols], df_train[y_target], cv=cv, scoring='accuracy', return_train_score=True)\n",
    "    return np.mean(result['train_score']), np.std(result['train_score']), np.mean(result['test_score']), np.std(result['test_score'])\n",
    "\n",
    "def test_model(clf):\n",
    "    prd = clf.predict(df_test[X_cols])\n",
    "    return accuracy_score(df_test[y_target], prd)"
   ]
  },
  {
   "cell_type": "code",
   "execution_count": 25,
   "id": "492e750c",
   "metadata": {},
   "outputs": [
    {
     "data": {
      "text/plain": [
       "(0.5701132247289932,\n",
       " 0.0075453299897091,\n",
       " 0.5603067407785326,\n",
       " 0.01647066710990199)"
      ]
     },
     "execution_count": 25,
     "metadata": {},
     "output_type": "execute_result"
    }
   ],
   "source": [
    "from sklearn.linear_model import LogisticRegression \n",
    "from sklearn.metrics import mean_squared_error \n",
    "\n",
    "clf_lr = make_pipeline(\n",
    "    StandardScaler(),\n",
    "    LogisticRegression(solver='lbfgs', multi_class='multinomial') # 다중 클래스 확률을 softmax로 계산토록 합니다\n",
    ")\n",
    "eval_model(clf_lr)"
   ]
  },
  {
   "cell_type": "code",
   "execution_count": 26,
   "id": "0a2954b5",
   "metadata": {},
   "outputs": [
    {
     "data": {
      "text/plain": [
       "0.5299043062200957"
      ]
     },
     "execution_count": 26,
     "metadata": {},
     "output_type": "execute_result"
    }
   ],
   "source": [
    "clf_lr.fit(df_train[X_cols], df_train[y_target])\n",
    "test_model(clf_lr)"
   ]
  },
  {
   "cell_type": "code",
   "execution_count": 28,
   "id": "3061fddf",
   "metadata": {},
   "outputs": [
    {
     "data": {
      "text/plain": [
       "(0.7577070046215089,\n",
       " 0.0047905876891228315,\n",
       " 0.5627068732490177,\n",
       " 0.009384357819423742)"
      ]
     },
     "execution_count": 28,
     "metadata": {},
     "output_type": "execute_result"
    }
   ],
   "source": [
    "from sklearn.ensemble import RandomForestClassifier \n",
    "\n",
    "clf_rf = RandomForestClassifier(n_estimators=300, max_depth=7, random_state=123)\n",
    "eval_model(clf_rf)"
   ]
  },
  {
   "cell_type": "code",
   "execution_count": 29,
   "id": "9988c9f5",
   "metadata": {},
   "outputs": [
    {
     "data": {
      "text/plain": [
       "(0.6715058099289636,\n",
       " 0.006159987110256223,\n",
       " 0.5645001476866893,\n",
       " 0.015567872193416429)"
      ]
     },
     "execution_count": 29,
     "metadata": {},
     "output_type": "execute_result"
    }
   ],
   "source": [
    "from sklearn.ensemble import VotingClassifier\n",
    "\n",
    "# Voting Classifier를 clf_lr(Logistic Regression)과 clf_rf(Random Forest)로 구성합니다\n",
    "clf_vt = VotingClassifier([\n",
    "    ('lr', clf_lr),\n",
    "    ('rf', clf_rf)\n",
    "], voting='soft')\n",
    "eval_model(clf_vt)"
   ]
  },
  {
   "cell_type": "code",
   "execution_count": 30,
   "id": "bc5c8f6e",
   "metadata": {},
   "outputs": [
    {
     "data": {
      "text/plain": [
       "0.5358851674641149"
      ]
     },
     "execution_count": 30,
     "metadata": {},
     "output_type": "execute_result"
    }
   ],
   "source": [
    "clf_vt.fit(df_train[X_cols], df_train[y_target])\n",
    "test_model(clf_vt)"
   ]
  },
  {
   "cell_type": "markdown",
   "id": "8221f5f3",
   "metadata": {},
   "source": [
    "[Ex.5]"
   ]
  },
  {
   "cell_type": "code",
   "execution_count": 44,
   "id": "0cf52989",
   "metadata": {},
   "outputs": [],
   "source": [
    "df_train2 = df_abalone.loc[df_abalone['Sex'] != 'I']\n",
    "df_test2 = df_abalone.loc[df_abalone['Sex'] == 'I']\n",
    "\n",
    "from sklearn.model_selection import GroupKFold\n",
    "y_target2 = 'Rings'\n",
    "grp = 'Sex'\n",
    "X_cols2 = [i for i in df_train2.columns if i != y_target2 and i != grp]\n",
    "cv2 = GroupKFold(n_splits=2)\n",
    "\n",
    "def eval_model2(reg):\n",
    "    result = cross_validate(\n",
    "        reg, df_train2[X_cols], df_train2[y_target2], \n",
    "        cv=cv2, groups=df_train2[grp], scoring='neg_mean_squared_error', return_train_score=True\n",
    "    )\n",
    "    return np.mean(result['train_score']), np.std(result['train_score']), np.mean(result['test_score']), np.std(result['test_score'])\n",
    "\n",
    "def test_model2(reg):\n",
    "    y_preds = reg.predict(df_test2[X_cols2])\n",
    "    return mean_squared_error(df_test2['Rings'], y_preds)"
   ]
  },
  {
   "cell_type": "code",
   "execution_count": 45,
   "id": "e028c569",
   "metadata": {},
   "outputs": [
    {
     "data": {
      "text/html": [
       "<div>\n",
       "<style scoped>\n",
       "    .dataframe tbody tr th:only-of-type {\n",
       "        vertical-align: middle;\n",
       "    }\n",
       "\n",
       "    .dataframe tbody tr th {\n",
       "        vertical-align: top;\n",
       "    }\n",
       "\n",
       "    .dataframe thead th {\n",
       "        text-align: right;\n",
       "    }\n",
       "</style>\n",
       "<table border=\"1\" class=\"dataframe\">\n",
       "  <thead>\n",
       "    <tr style=\"text-align: right;\">\n",
       "      <th></th>\n",
       "      <th>X</th>\n",
       "      <th>y</th>\n",
       "    </tr>\n",
       "  </thead>\n",
       "  <tbody>\n",
       "    <tr>\n",
       "      <th>0</th>\n",
       "      <td>1</td>\n",
       "      <td>2</td>\n",
       "    </tr>\n",
       "    <tr>\n",
       "      <th>1</th>\n",
       "      <td>2</td>\n",
       "      <td>4</td>\n",
       "    </tr>\n",
       "    <tr>\n",
       "      <th>2</th>\n",
       "      <td>3</td>\n",
       "      <td>6</td>\n",
       "    </tr>\n",
       "    <tr>\n",
       "      <th>3</th>\n",
       "      <td>4</td>\n",
       "      <td>8</td>\n",
       "    </tr>\n",
       "    <tr>\n",
       "      <th>4</th>\n",
       "      <td>5</td>\n",
       "      <td>10</td>\n",
       "    </tr>\n",
       "  </tbody>\n",
       "</table>\n",
       "</div>"
      ],
      "text/plain": [
       "   X   y\n",
       "0  1   2\n",
       "1  2   4\n",
       "2  3   6\n",
       "3  4   8\n",
       "4  5  10"
      ]
     },
     "metadata": {},
     "output_type": "display_data"
    },
    {
     "data": {
      "text/html": [
       "<div>\n",
       "<style scoped>\n",
       "    .dataframe tbody tr th:only-of-type {\n",
       "        vertical-align: middle;\n",
       "    }\n",
       "\n",
       "    .dataframe tbody tr th {\n",
       "        vertical-align: top;\n",
       "    }\n",
       "\n",
       "    .dataframe thead th {\n",
       "        text-align: right;\n",
       "    }\n",
       "</style>\n",
       "<table border=\"1\" class=\"dataframe\">\n",
       "  <thead>\n",
       "    <tr style=\"text-align: right;\">\n",
       "      <th></th>\n",
       "      <th>X</th>\n",
       "      <th>y</th>\n",
       "      <th>class</th>\n",
       "    </tr>\n",
       "  </thead>\n",
       "  <tbody>\n",
       "    <tr>\n",
       "      <th>0</th>\n",
       "      <td>1</td>\n",
       "      <td>2</td>\n",
       "      <td>a</td>\n",
       "    </tr>\n",
       "    <tr>\n",
       "      <th>1</th>\n",
       "      <td>2</td>\n",
       "      <td>4</td>\n",
       "      <td>a</td>\n",
       "    </tr>\n",
       "    <tr>\n",
       "      <th>2</th>\n",
       "      <td>3</td>\n",
       "      <td>6</td>\n",
       "      <td>a</td>\n",
       "    </tr>\n",
       "    <tr>\n",
       "      <th>3</th>\n",
       "      <td>4</td>\n",
       "      <td>8</td>\n",
       "      <td>a</td>\n",
       "    </tr>\n",
       "    <tr>\n",
       "      <th>4</th>\n",
       "      <td>5</td>\n",
       "      <td>10</td>\n",
       "      <td>a</td>\n",
       "    </tr>\n",
       "    <tr>\n",
       "      <th>5</th>\n",
       "      <td>6</td>\n",
       "      <td>12</td>\n",
       "      <td>a</td>\n",
       "    </tr>\n",
       "    <tr>\n",
       "      <th>6</th>\n",
       "      <td>7</td>\n",
       "      <td>14</td>\n",
       "      <td>a</td>\n",
       "    </tr>\n",
       "    <tr>\n",
       "      <th>7</th>\n",
       "      <td>8</td>\n",
       "      <td>16</td>\n",
       "      <td>a</td>\n",
       "    </tr>\n",
       "    <tr>\n",
       "      <th>8</th>\n",
       "      <td>9</td>\n",
       "      <td>18</td>\n",
       "      <td>a</td>\n",
       "    </tr>\n",
       "    <tr>\n",
       "      <th>9</th>\n",
       "      <td>10</td>\n",
       "      <td>20</td>\n",
       "      <td>a</td>\n",
       "    </tr>\n",
       "    <tr>\n",
       "      <th>10</th>\n",
       "      <td>11</td>\n",
       "      <td>22</td>\n",
       "      <td>a</td>\n",
       "    </tr>\n",
       "    <tr>\n",
       "      <th>11</th>\n",
       "      <td>12</td>\n",
       "      <td>24</td>\n",
       "      <td>a</td>\n",
       "    </tr>\n",
       "    <tr>\n",
       "      <th>12</th>\n",
       "      <td>13</td>\n",
       "      <td>26</td>\n",
       "      <td>b</td>\n",
       "    </tr>\n",
       "    <tr>\n",
       "      <th>13</th>\n",
       "      <td>14</td>\n",
       "      <td>28</td>\n",
       "      <td>b</td>\n",
       "    </tr>\n",
       "    <tr>\n",
       "      <th>14</th>\n",
       "      <td>15</td>\n",
       "      <td>30</td>\n",
       "      <td>b</td>\n",
       "    </tr>\n",
       "    <tr>\n",
       "      <th>15</th>\n",
       "      <td>16</td>\n",
       "      <td>32</td>\n",
       "      <td>b</td>\n",
       "    </tr>\n",
       "  </tbody>\n",
       "</table>\n",
       "</div>"
      ],
      "text/plain": [
       "     X   y class\n",
       "0    1   2     a\n",
       "1    2   4     a\n",
       "2    3   6     a\n",
       "3    4   8     a\n",
       "4    5  10     a\n",
       "5    6  12     a\n",
       "6    7  14     a\n",
       "7    8  16     a\n",
       "8    9  18     a\n",
       "9   10  20     a\n",
       "10  11  22     a\n",
       "11  12  24     a\n",
       "12  13  26     b\n",
       "13  14  28     b\n",
       "14  15  30     b\n",
       "15  16  32     b"
      ]
     },
     "metadata": {},
     "output_type": "display_data"
    },
    {
     "name": "stdout",
     "output_type": "stream",
     "text": [
      "[12 13 14 15] [ 0  1  2  3  4  5  6  7  8  9 10 11]\n",
      "[ 0  1  2  3  4  5  6  7  8  9 10 11] [12 13 14 15]\n"
     ]
    }
   ],
   "source": [
    "from IPython.display import display\n",
    "from sklearn.model_selection import GroupKFold\n",
    "\n",
    "df = pd.DataFrame({'X': X, 'y': y}, columns=['X', 'y'])\n",
    "display(df.head())\n",
    "df.loc[:int(len(df)*3/4), 'class'] = 'a'\n",
    "df.loc[int(len(df)*3/4):, 'class'] = 'b'\n",
    "display(df)\n",
    "\n",
    "gkf = GroupKFold(n_splits=2)\n",
    "for train_index, test_index in gkf.split(df, groups=df['class']):\n",
    "     print(\"%s %s\" % (train_index, test_index))"
   ]
  },
  {
   "cell_type": "code",
   "execution_count": 49,
   "id": "5491e9b9",
   "metadata": {},
   "outputs": [
    {
     "data": {
      "text/plain": [
       "((-2.1635972709489185e-30,\n",
       "  5.301182761064568e-31,\n",
       "  -2.0825053200980617e-30,\n",
       "  2.138646448384962e-31),\n",
       " (-0.0017693922686852445,\n",
       "  0.0007831793542000766,\n",
       "  -0.015088361192117624,\n",
       "  0.002397705287521921))"
      ]
     },
     "execution_count": 49,
     "metadata": {},
     "output_type": "execute_result"
    }
   ],
   "source": [
    "from sklearn.linear_model import LinearRegression\n",
    "from sklearn.ensemble import RandomForestRegressor\n",
    "reg_lr = make_pipeline(\n",
    "    StandardScaler(),\n",
    "    LinearRegression()\n",
    ")\n",
    "reg_rf = RandomForestRegressor(n_estimators=300, max_depth=7, random_state=123)\n",
    "eval_model2(reg_lr), eval_model2(reg_rf)"
   ]
  },
  {
   "cell_type": "code",
   "execution_count": 50,
   "id": "96c5d0cc",
   "metadata": {},
   "outputs": [
    {
     "data": {
      "text/plain": [
       "(4.60917470896092, 4.044116723974344)"
      ]
     },
     "execution_count": 50,
     "metadata": {},
     "output_type": "execute_result"
    }
   ],
   "source": [
    "reg_lr.fit(df_train2[X_cols2], df_train2[y_target2])\n",
    "reg_rf.fit(df_train2[X_cols2], df_train2[y_target2])\n",
    "test_model2(reg_lr), test_model2(reg_rf)"
   ]
  },
  {
   "cell_type": "code",
   "execution_count": 51,
   "id": "87a3ba1b",
   "metadata": {},
   "outputs": [
    {
     "data": {
      "text/plain": [
       "(-0.0004423480671713111,\n",
       " 0.00019579483855002348,\n",
       " -0.0037720902980294094,\n",
       " 0.0005994263218804751)"
      ]
     },
     "execution_count": 51,
     "metadata": {},
     "output_type": "execute_result"
    }
   ],
   "source": [
    "from sklearn.ensemble import VotingRegressor\n",
    "\n",
    "reg_vt = VotingRegressor([\n",
    "    ('lr', reg_lr),\n",
    "    ('rf', reg_rf)\n",
    "])\n",
    "eval_model2(reg_vt)"
   ]
  },
  {
   "cell_type": "code",
   "execution_count": 54,
   "id": "c1af0a01",
   "metadata": {},
   "outputs": [
    {
     "data": {
      "text/plain": [
       "4.050880582683106"
      ]
     },
     "execution_count": 54,
     "metadata": {},
     "output_type": "execute_result"
    }
   ],
   "source": [
    "reg_vt.fit(df_train2[X_cols2], df_train2[y_target2])\n",
    "test_model2(reg_vt)"
   ]
  },
  {
   "cell_type": "code",
   "execution_count": null,
   "id": "c75aa534",
   "metadata": {},
   "outputs": [],
   "source": []
  }
 ],
 "metadata": {
  "kernelspec": {
   "display_name": "Python 3 (ipykernel)",
   "language": "python",
   "name": "python3"
  },
  "language_info": {
   "codemirror_mode": {
    "name": "ipython",
    "version": 3
   },
   "file_extension": ".py",
   "mimetype": "text/x-python",
   "name": "python",
   "nbconvert_exporter": "python",
   "pygments_lexer": "ipython3",
   "version": "3.9.13"
  }
 },
 "nbformat": 4,
 "nbformat_minor": 5
}
