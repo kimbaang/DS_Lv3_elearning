{
 "cells": [
  {
   "cell_type": "code",
   "execution_count": 9,
   "id": "595d7339",
   "metadata": {},
   "outputs": [
    {
     "data": {
      "text/html": [
       "<div>\n",
       "<style scoped>\n",
       "    .dataframe tbody tr th:only-of-type {\n",
       "        vertical-align: middle;\n",
       "    }\n",
       "\n",
       "    .dataframe tbody tr th {\n",
       "        vertical-align: top;\n",
       "    }\n",
       "\n",
       "    .dataframe thead th {\n",
       "        text-align: right;\n",
       "    }\n",
       "</style>\n",
       "<table border=\"1\" class=\"dataframe\">\n",
       "  <thead>\n",
       "    <tr style=\"text-align: right;\">\n",
       "      <th></th>\n",
       "      <th>Survived</th>\n",
       "      <th>Pclass</th>\n",
       "      <th>Name</th>\n",
       "      <th>Sex</th>\n",
       "      <th>Age</th>\n",
       "      <th>SibSp</th>\n",
       "      <th>Parch</th>\n",
       "      <th>Ticket</th>\n",
       "      <th>Fare</th>\n",
       "      <th>Cabin</th>\n",
       "      <th>Embarked</th>\n",
       "    </tr>\n",
       "    <tr>\n",
       "      <th>PassengerId</th>\n",
       "      <th></th>\n",
       "      <th></th>\n",
       "      <th></th>\n",
       "      <th></th>\n",
       "      <th></th>\n",
       "      <th></th>\n",
       "      <th></th>\n",
       "      <th></th>\n",
       "      <th></th>\n",
       "      <th></th>\n",
       "      <th></th>\n",
       "    </tr>\n",
       "  </thead>\n",
       "  <tbody>\n",
       "    <tr>\n",
       "      <th>1</th>\n",
       "      <td>0</td>\n",
       "      <td>3</td>\n",
       "      <td>Braund, Mr. Owen Harris</td>\n",
       "      <td>male</td>\n",
       "      <td>22.0</td>\n",
       "      <td>1</td>\n",
       "      <td>0</td>\n",
       "      <td>A/5 21171</td>\n",
       "      <td>7.2500</td>\n",
       "      <td>NaN</td>\n",
       "      <td>S</td>\n",
       "    </tr>\n",
       "    <tr>\n",
       "      <th>2</th>\n",
       "      <td>1</td>\n",
       "      <td>1</td>\n",
       "      <td>Cumings, Mrs. John Bradley (Florence Briggs Th...</td>\n",
       "      <td>female</td>\n",
       "      <td>38.0</td>\n",
       "      <td>1</td>\n",
       "      <td>0</td>\n",
       "      <td>PC 17599</td>\n",
       "      <td>71.2833</td>\n",
       "      <td>C85</td>\n",
       "      <td>C</td>\n",
       "    </tr>\n",
       "    <tr>\n",
       "      <th>3</th>\n",
       "      <td>1</td>\n",
       "      <td>3</td>\n",
       "      <td>Heikkinen, Miss. Laina</td>\n",
       "      <td>female</td>\n",
       "      <td>26.0</td>\n",
       "      <td>0</td>\n",
       "      <td>0</td>\n",
       "      <td>STON/O2. 3101282</td>\n",
       "      <td>7.9250</td>\n",
       "      <td>NaN</td>\n",
       "      <td>S</td>\n",
       "    </tr>\n",
       "    <tr>\n",
       "      <th>4</th>\n",
       "      <td>1</td>\n",
       "      <td>1</td>\n",
       "      <td>Futrelle, Mrs. Jacques Heath (Lily May Peel)</td>\n",
       "      <td>female</td>\n",
       "      <td>35.0</td>\n",
       "      <td>1</td>\n",
       "      <td>0</td>\n",
       "      <td>113803</td>\n",
       "      <td>53.1000</td>\n",
       "      <td>C123</td>\n",
       "      <td>S</td>\n",
       "    </tr>\n",
       "    <tr>\n",
       "      <th>5</th>\n",
       "      <td>0</td>\n",
       "      <td>3</td>\n",
       "      <td>Allen, Mr. William Henry</td>\n",
       "      <td>male</td>\n",
       "      <td>35.0</td>\n",
       "      <td>0</td>\n",
       "      <td>0</td>\n",
       "      <td>373450</td>\n",
       "      <td>8.0500</td>\n",
       "      <td>NaN</td>\n",
       "      <td>S</td>\n",
       "    </tr>\n",
       "  </tbody>\n",
       "</table>\n",
       "</div>"
      ],
      "text/plain": [
       "             Survived  Pclass  \\\n",
       "PassengerId                     \n",
       "1                   0       3   \n",
       "2                   1       1   \n",
       "3                   1       3   \n",
       "4                   1       1   \n",
       "5                   0       3   \n",
       "\n",
       "                                                          Name     Sex   Age  \\\n",
       "PassengerId                                                                    \n",
       "1                                      Braund, Mr. Owen Harris    male  22.0   \n",
       "2            Cumings, Mrs. John Bradley (Florence Briggs Th...  female  38.0   \n",
       "3                                       Heikkinen, Miss. Laina  female  26.0   \n",
       "4                 Futrelle, Mrs. Jacques Heath (Lily May Peel)  female  35.0   \n",
       "5                                     Allen, Mr. William Henry    male  35.0   \n",
       "\n",
       "             SibSp  Parch            Ticket     Fare Cabin Embarked  \n",
       "PassengerId                                                          \n",
       "1                1      0         A/5 21171   7.2500   NaN        S  \n",
       "2                1      0          PC 17599  71.2833   C85        C  \n",
       "3                0      0  STON/O2. 3101282   7.9250   NaN        S  \n",
       "4                1      0            113803  53.1000  C123        S  \n",
       "5                0      0            373450   8.0500   NaN        S  "
      ]
     },
     "execution_count": 9,
     "metadata": {},
     "output_type": "execute_result"
    }
   ],
   "source": [
    "import pandas as pd \n",
    "\n",
    "df_titanic = pd.read_csv('data/titanic.csv', index_col='PassengerId')\n",
    "df_titanic.head()"
   ]
  },
  {
   "cell_type": "code",
   "execution_count": 10,
   "id": "d8f8d405",
   "metadata": {},
   "outputs": [
    {
     "data": {
      "text/html": [
       "<div>\n",
       "<style scoped>\n",
       "    .dataframe tbody tr th:only-of-type {\n",
       "        vertical-align: middle;\n",
       "    }\n",
       "\n",
       "    .dataframe tbody tr th {\n",
       "        vertical-align: top;\n",
       "    }\n",
       "\n",
       "    .dataframe thead th {\n",
       "        text-align: right;\n",
       "    }\n",
       "</style>\n",
       "<table border=\"1\" class=\"dataframe\">\n",
       "  <thead>\n",
       "    <tr style=\"text-align: right;\">\n",
       "      <th></th>\n",
       "      <th>Survived</th>\n",
       "      <th>Pclass</th>\n",
       "      <th>Name</th>\n",
       "      <th>Sex</th>\n",
       "      <th>Age</th>\n",
       "      <th>SibSp</th>\n",
       "      <th>Parch</th>\n",
       "      <th>Ticket</th>\n",
       "      <th>Fare</th>\n",
       "      <th>Cabin</th>\n",
       "      <th>Embarked</th>\n",
       "    </tr>\n",
       "  </thead>\n",
       "  <tbody>\n",
       "    <tr>\n",
       "      <th>0</th>\n",
       "      <td>0</td>\n",
       "      <td>0</td>\n",
       "      <td>0</td>\n",
       "      <td>0</td>\n",
       "      <td>177</td>\n",
       "      <td>0</td>\n",
       "      <td>0</td>\n",
       "      <td>0</td>\n",
       "      <td>0</td>\n",
       "      <td>687</td>\n",
       "      <td>2</td>\n",
       "    </tr>\n",
       "  </tbody>\n",
       "</table>\n",
       "</div>"
      ],
      "text/plain": [
       "   Survived  Pclass  Name  Sex  Age  SibSp  Parch  Ticket  Fare  Cabin  \\\n",
       "0         0       0     0    0  177      0      0       0     0    687   \n",
       "\n",
       "   Embarked  \n",
       "0         2  "
      ]
     },
     "execution_count": 10,
     "metadata": {},
     "output_type": "execute_result"
    }
   ],
   "source": [
    "df_titanic.isna().sum().to_frame().T"
   ]
  },
  {
   "cell_type": "markdown",
   "id": "18bde7a4",
   "metadata": {},
   "source": [
    "Categorical columns의 결측치는 **mode**로 처리한다"
   ]
  },
  {
   "cell_type": "code",
   "execution_count": 11,
   "id": "06177021",
   "metadata": {},
   "outputs": [
    {
     "data": {
      "text/plain": [
       "'S'"
      ]
     },
     "execution_count": 11,
     "metadata": {},
     "output_type": "execute_result"
    }
   ],
   "source": [
    "df_titanic['Embarked'].mode()[0] "
   ]
  },
  {
   "cell_type": "code",
   "execution_count": 12,
   "id": "1b64cdf0",
   "metadata": {},
   "outputs": [
    {
     "data": {
      "text/plain": [
       "['Age',\n",
       " 'SibSp',\n",
       " 'Parch',\n",
       " 'Fare',\n",
       " 'Sex',\n",
       " 'Pclass_1',\n",
       " 'Pclass_2',\n",
       " 'Pclass_3',\n",
       " 'Embarked_C',\n",
       " 'Embarked_Q',\n",
       " 'Embarked_S']"
      ]
     },
     "execution_count": 12,
     "metadata": {},
     "output_type": "execute_result"
    }
   ],
   "source": [
    "df_titanic = pd.get_dummies(\n",
    "    df_titanic.assign(\n",
    "        Embarked=lambda x: x['Embarked'].fillna(x['Embarked'].mode().iloc[0]),\n",
    "        Age=lambda x: x['Age'].fillna(x['Age'].mean()),\n",
    "    ), columns=['Pclass', 'Embarked']\n",
    ").assign(\n",
    "    Sex=lambda x: x['Sex'] == 'female'\n",
    ")\n",
    "\n",
    "X_num = ['Age', 'SibSp', 'Parch', 'Fare']\n",
    "X_dum = [i for i in df_titanic.columns if i.startswith('Pclass') or i.startswith('Sex') or i.startswith('Embarked')]\n",
    "X_all = X_num + X_dum\n",
    "X_all "
   ]
  },
  {
   "cell_type": "code",
   "execution_count": 29,
   "id": "cea6c0c3",
   "metadata": {},
   "outputs": [],
   "source": [
    "from sklearn.model_selection import train_test_split\n",
    "\n",
    "df_train, df_test = train_test_split(df_titanic, train_size=0.8, stratify=df_titanic['Survived'], random_state=123)"
   ]
  },
  {
   "cell_type": "code",
   "execution_count": 13,
   "id": "084dc3c5",
   "metadata": {},
   "outputs": [
    {
     "data": {
      "text/plain": [
       "DecisionTreeClassifier(max_depth=1)"
      ]
     },
     "execution_count": 13,
     "metadata": {},
     "output_type": "execute_result"
    }
   ],
   "source": [
    "from sklearn.tree import DecisionTreeClassifier\n",
    "\n",
    "model = DecisionTreeClassifier(max_depth=1)\n",
    "model.fit(df_titanic[X_all], df_titanic['Survived'])"
   ]
  },
  {
   "cell_type": "code",
   "execution_count": 30,
   "id": "f286f2c6",
   "metadata": {},
   "outputs": [],
   "source": [
    "from sklearn.model_selection import GridSearchCV\n",
    "import numpy as np\n",
    "\n",
    "params = {\n",
    "    'max_depth': np.arange(2, 13),\n",
    "    'max_leaf_nodes': np.arange(2, 10)**2,\n",
    "    'min_samples_leaf': np.arange(2, 64, 4),\n",
    "    'criterion': ['gini', 'entropy']\n",
    "}"
   ]
  },
  {
   "cell_type": "code",
   "execution_count": 31,
   "id": "e181e91a",
   "metadata": {},
   "outputs": [
    {
     "name": "stdout",
     "output_type": "stream",
     "text": [
      "Fitting 4 folds for each of 2816 candidates, totalling 11264 fits\n",
      "Wall time: 17.6 s\n"
     ]
    },
    {
     "data": {
      "text/plain": [
       "GridSearchCV(cv=4, estimator=DecisionTreeClassifier(random_state=123),\n",
       "             n_jobs=-1,\n",
       "             param_grid={'criterion': ['gini', 'entropy'],\n",
       "                         'max_depth': array([ 2,  3,  4,  5,  6,  7,  8,  9, 10, 11, 12]),\n",
       "                         'max_leaf_nodes': array([ 4,  9, 16, 25, 36, 49, 64, 81], dtype=int32),\n",
       "                         'min_samples_leaf': array([ 2,  6, 10, 14, 18, 22, 26, 30, 34, 38, 42, 46, 50, 54, 58, 62])},\n",
       "             scoring='f1', verbose=1)"
      ]
     },
     "execution_count": 31,
     "metadata": {},
     "output_type": "execute_result"
    }
   ],
   "source": [
    "%%time\n",
    "model = DecisionTreeClassifier(random_state=123)\n",
    "gs = GridSearchCV(estimator=model, param_grid=params, cv=4, n_jobs=-1, verbose=1, scoring='f1')\n",
    "gs.fit(df_train[X_all], df_train['Survived'])"
   ]
  },
  {
   "cell_type": "code",
   "execution_count": 32,
   "id": "608199ac",
   "metadata": {},
   "outputs": [
    {
     "data": {
      "text/html": [
       "<div>\n",
       "<style scoped>\n",
       "    .dataframe tbody tr th:only-of-type {\n",
       "        vertical-align: middle;\n",
       "    }\n",
       "\n",
       "    .dataframe tbody tr th {\n",
       "        vertical-align: top;\n",
       "    }\n",
       "\n",
       "    .dataframe thead th {\n",
       "        text-align: right;\n",
       "    }\n",
       "</style>\n",
       "<table border=\"1\" class=\"dataframe\">\n",
       "  <thead>\n",
       "    <tr style=\"text-align: right;\">\n",
       "      <th></th>\n",
       "      <th>mean_fit_time</th>\n",
       "      <th>std_fit_time</th>\n",
       "      <th>mean_score_time</th>\n",
       "      <th>std_score_time</th>\n",
       "      <th>param_criterion</th>\n",
       "      <th>param_max_depth</th>\n",
       "      <th>param_max_leaf_nodes</th>\n",
       "      <th>param_min_samples_leaf</th>\n",
       "      <th>params</th>\n",
       "      <th>split0_test_score</th>\n",
       "      <th>split1_test_score</th>\n",
       "      <th>split2_test_score</th>\n",
       "      <th>split3_test_score</th>\n",
       "      <th>mean_test_score</th>\n",
       "      <th>std_test_score</th>\n",
       "      <th>rank_test_score</th>\n",
       "    </tr>\n",
       "  </thead>\n",
       "  <tbody>\n",
       "    <tr>\n",
       "      <th>0</th>\n",
       "      <td>0.005250</td>\n",
       "      <td>0.000434</td>\n",
       "      <td>0.003499</td>\n",
       "      <td>0.000502</td>\n",
       "      <td>gini</td>\n",
       "      <td>2</td>\n",
       "      <td>4</td>\n",
       "      <td>2</td>\n",
       "      <td>{'criterion': 'gini', 'max_depth': 2, 'max_lea...</td>\n",
       "      <td>0.788321</td>\n",
       "      <td>0.618182</td>\n",
       "      <td>0.65625</td>\n",
       "      <td>0.7</td>\n",
       "      <td>0.690688</td>\n",
       "      <td>0.063368</td>\n",
       "      <td>1697</td>\n",
       "    </tr>\n",
       "    <tr>\n",
       "      <th>1</th>\n",
       "      <td>0.006752</td>\n",
       "      <td>0.001482</td>\n",
       "      <td>0.005249</td>\n",
       "      <td>0.003343</td>\n",
       "      <td>gini</td>\n",
       "      <td>2</td>\n",
       "      <td>4</td>\n",
       "      <td>6</td>\n",
       "      <td>{'criterion': 'gini', 'max_depth': 2, 'max_lea...</td>\n",
       "      <td>0.788321</td>\n",
       "      <td>0.618182</td>\n",
       "      <td>0.65625</td>\n",
       "      <td>0.7</td>\n",
       "      <td>0.690688</td>\n",
       "      <td>0.063368</td>\n",
       "      <td>1697</td>\n",
       "    </tr>\n",
       "    <tr>\n",
       "      <th>2</th>\n",
       "      <td>0.004750</td>\n",
       "      <td>0.000432</td>\n",
       "      <td>0.003500</td>\n",
       "      <td>0.000499</td>\n",
       "      <td>gini</td>\n",
       "      <td>2</td>\n",
       "      <td>4</td>\n",
       "      <td>10</td>\n",
       "      <td>{'criterion': 'gini', 'max_depth': 2, 'max_lea...</td>\n",
       "      <td>0.788321</td>\n",
       "      <td>0.618182</td>\n",
       "      <td>0.65625</td>\n",
       "      <td>0.7</td>\n",
       "      <td>0.690688</td>\n",
       "      <td>0.063368</td>\n",
       "      <td>1697</td>\n",
       "    </tr>\n",
       "    <tr>\n",
       "      <th>3</th>\n",
       "      <td>0.005750</td>\n",
       "      <td>0.001479</td>\n",
       "      <td>0.003750</td>\n",
       "      <td>0.000830</td>\n",
       "      <td>gini</td>\n",
       "      <td>2</td>\n",
       "      <td>4</td>\n",
       "      <td>14</td>\n",
       "      <td>{'criterion': 'gini', 'max_depth': 2, 'max_lea...</td>\n",
       "      <td>0.788321</td>\n",
       "      <td>0.618182</td>\n",
       "      <td>0.65625</td>\n",
       "      <td>0.7</td>\n",
       "      <td>0.690688</td>\n",
       "      <td>0.063368</td>\n",
       "      <td>1697</td>\n",
       "    </tr>\n",
       "    <tr>\n",
       "      <th>4</th>\n",
       "      <td>0.005751</td>\n",
       "      <td>0.001919</td>\n",
       "      <td>0.004498</td>\n",
       "      <td>0.001117</td>\n",
       "      <td>gini</td>\n",
       "      <td>2</td>\n",
       "      <td>4</td>\n",
       "      <td>18</td>\n",
       "      <td>{'criterion': 'gini', 'max_depth': 2, 'max_lea...</td>\n",
       "      <td>0.791367</td>\n",
       "      <td>0.618182</td>\n",
       "      <td>0.65625</td>\n",
       "      <td>0.7</td>\n",
       "      <td>0.691450</td>\n",
       "      <td>0.064544</td>\n",
       "      <td>1681</td>\n",
       "    </tr>\n",
       "  </tbody>\n",
       "</table>\n",
       "</div>"
      ],
      "text/plain": [
       "   mean_fit_time  std_fit_time  mean_score_time  std_score_time  \\\n",
       "0       0.005250      0.000434         0.003499        0.000502   \n",
       "1       0.006752      0.001482         0.005249        0.003343   \n",
       "2       0.004750      0.000432         0.003500        0.000499   \n",
       "3       0.005750      0.001479         0.003750        0.000830   \n",
       "4       0.005751      0.001919         0.004498        0.001117   \n",
       "\n",
       "  param_criterion param_max_depth param_max_leaf_nodes param_min_samples_leaf  \\\n",
       "0            gini               2                    4                      2   \n",
       "1            gini               2                    4                      6   \n",
       "2            gini               2                    4                     10   \n",
       "3            gini               2                    4                     14   \n",
       "4            gini               2                    4                     18   \n",
       "\n",
       "                                              params  split0_test_score  \\\n",
       "0  {'criterion': 'gini', 'max_depth': 2, 'max_lea...           0.788321   \n",
       "1  {'criterion': 'gini', 'max_depth': 2, 'max_lea...           0.788321   \n",
       "2  {'criterion': 'gini', 'max_depth': 2, 'max_lea...           0.788321   \n",
       "3  {'criterion': 'gini', 'max_depth': 2, 'max_lea...           0.788321   \n",
       "4  {'criterion': 'gini', 'max_depth': 2, 'max_lea...           0.791367   \n",
       "\n",
       "   split1_test_score  split2_test_score  split3_test_score  mean_test_score  \\\n",
       "0           0.618182            0.65625                0.7         0.690688   \n",
       "1           0.618182            0.65625                0.7         0.690688   \n",
       "2           0.618182            0.65625                0.7         0.690688   \n",
       "3           0.618182            0.65625                0.7         0.690688   \n",
       "4           0.618182            0.65625                0.7         0.691450   \n",
       "\n",
       "   std_test_score  rank_test_score  \n",
       "0        0.063368             1697  \n",
       "1        0.063368             1697  \n",
       "2        0.063368             1697  \n",
       "3        0.063368             1697  \n",
       "4        0.064544             1681  "
      ]
     },
     "execution_count": 32,
     "metadata": {},
     "output_type": "execute_result"
    }
   ],
   "source": [
    "score_df = pd.DataFrame(gs.cv_results_)\n",
    "score_df.head()"
   ]
  },
  {
   "cell_type": "code",
   "execution_count": 33,
   "id": "720bace5",
   "metadata": {},
   "outputs": [
    {
     "data": {
      "text/html": [
       "<div>\n",
       "<style scoped>\n",
       "    .dataframe tbody tr th:only-of-type {\n",
       "        vertical-align: middle;\n",
       "    }\n",
       "\n",
       "    .dataframe tbody tr th {\n",
       "        vertical-align: top;\n",
       "    }\n",
       "\n",
       "    .dataframe thead th {\n",
       "        text-align: right;\n",
       "    }\n",
       "</style>\n",
       "<table border=\"1\" class=\"dataframe\">\n",
       "  <thead>\n",
       "    <tr style=\"text-align: right;\">\n",
       "      <th></th>\n",
       "      <th>mean_fit_time</th>\n",
       "      <th>std_fit_time</th>\n",
       "      <th>mean_score_time</th>\n",
       "      <th>std_score_time</th>\n",
       "      <th>param_criterion</th>\n",
       "      <th>param_max_depth</th>\n",
       "      <th>param_max_leaf_nodes</th>\n",
       "      <th>param_min_samples_leaf</th>\n",
       "      <th>params</th>\n",
       "      <th>split0_test_score</th>\n",
       "      <th>split1_test_score</th>\n",
       "      <th>split2_test_score</th>\n",
       "      <th>split3_test_score</th>\n",
       "      <th>mean_test_score</th>\n",
       "      <th>std_test_score</th>\n",
       "      <th>rank_test_score</th>\n",
       "    </tr>\n",
       "  </thead>\n",
       "  <tbody>\n",
       "    <tr>\n",
       "      <th>1328</th>\n",
       "      <td>0.005500</td>\n",
       "      <td>0.002062</td>\n",
       "      <td>0.002251</td>\n",
       "      <td>4.331881e-04</td>\n",
       "      <td>gini</td>\n",
       "      <td>12</td>\n",
       "      <td>25</td>\n",
       "      <td>2</td>\n",
       "      <td>{'criterion': 'gini', 'max_depth': 12, 'max_le...</td>\n",
       "      <td>0.816000</td>\n",
       "      <td>0.748092</td>\n",
       "      <td>0.779412</td>\n",
       "      <td>0.781250</td>\n",
       "      <td>0.781188</td>\n",
       "      <td>0.024033</td>\n",
       "      <td>1</td>\n",
       "    </tr>\n",
       "    <tr>\n",
       "      <th>1200</th>\n",
       "      <td>0.004750</td>\n",
       "      <td>0.000433</td>\n",
       "      <td>0.002499</td>\n",
       "      <td>5.008581e-04</td>\n",
       "      <td>gini</td>\n",
       "      <td>11</td>\n",
       "      <td>25</td>\n",
       "      <td>2</td>\n",
       "      <td>{'criterion': 'gini', 'max_depth': 11, 'max_le...</td>\n",
       "      <td>0.816000</td>\n",
       "      <td>0.748092</td>\n",
       "      <td>0.761194</td>\n",
       "      <td>0.781250</td>\n",
       "      <td>0.776634</td>\n",
       "      <td>0.025613</td>\n",
       "      <td>2</td>\n",
       "    </tr>\n",
       "    <tr>\n",
       "      <th>944</th>\n",
       "      <td>0.005249</td>\n",
       "      <td>0.001639</td>\n",
       "      <td>0.003251</td>\n",
       "      <td>4.326719e-04</td>\n",
       "      <td>gini</td>\n",
       "      <td>9</td>\n",
       "      <td>25</td>\n",
       "      <td>2</td>\n",
       "      <td>{'criterion': 'gini', 'max_depth': 9, 'max_lea...</td>\n",
       "      <td>0.825397</td>\n",
       "      <td>0.748092</td>\n",
       "      <td>0.740157</td>\n",
       "      <td>0.777778</td>\n",
       "      <td>0.772856</td>\n",
       "      <td>0.033419</td>\n",
       "      <td>3</td>\n",
       "    </tr>\n",
       "    <tr>\n",
       "      <th>2464</th>\n",
       "      <td>0.004500</td>\n",
       "      <td>0.000500</td>\n",
       "      <td>0.003250</td>\n",
       "      <td>4.333945e-04</td>\n",
       "      <td>entropy</td>\n",
       "      <td>10</td>\n",
       "      <td>16</td>\n",
       "      <td>2</td>\n",
       "      <td>{'criterion': 'entropy', 'max_depth': 10, 'max...</td>\n",
       "      <td>0.848485</td>\n",
       "      <td>0.763359</td>\n",
       "      <td>0.722689</td>\n",
       "      <td>0.754098</td>\n",
       "      <td>0.772158</td>\n",
       "      <td>0.046574</td>\n",
       "      <td>4</td>\n",
       "    </tr>\n",
       "    <tr>\n",
       "      <th>2592</th>\n",
       "      <td>0.006499</td>\n",
       "      <td>0.003202</td>\n",
       "      <td>0.003002</td>\n",
       "      <td>2.598106e-07</td>\n",
       "      <td>entropy</td>\n",
       "      <td>11</td>\n",
       "      <td>16</td>\n",
       "      <td>2</td>\n",
       "      <td>{'criterion': 'entropy', 'max_depth': 11, 'max...</td>\n",
       "      <td>0.848485</td>\n",
       "      <td>0.763359</td>\n",
       "      <td>0.722689</td>\n",
       "      <td>0.754098</td>\n",
       "      <td>0.772158</td>\n",
       "      <td>0.046574</td>\n",
       "      <td>4</td>\n",
       "    </tr>\n",
       "  </tbody>\n",
       "</table>\n",
       "</div>"
      ],
      "text/plain": [
       "      mean_fit_time  std_fit_time  mean_score_time  std_score_time  \\\n",
       "1328       0.005500      0.002062         0.002251    4.331881e-04   \n",
       "1200       0.004750      0.000433         0.002499    5.008581e-04   \n",
       "944        0.005249      0.001639         0.003251    4.326719e-04   \n",
       "2464       0.004500      0.000500         0.003250    4.333945e-04   \n",
       "2592       0.006499      0.003202         0.003002    2.598106e-07   \n",
       "\n",
       "     param_criterion param_max_depth param_max_leaf_nodes  \\\n",
       "1328            gini              12                   25   \n",
       "1200            gini              11                   25   \n",
       "944             gini               9                   25   \n",
       "2464         entropy              10                   16   \n",
       "2592         entropy              11                   16   \n",
       "\n",
       "     param_min_samples_leaf  \\\n",
       "1328                      2   \n",
       "1200                      2   \n",
       "944                       2   \n",
       "2464                      2   \n",
       "2592                      2   \n",
       "\n",
       "                                                 params  split0_test_score  \\\n",
       "1328  {'criterion': 'gini', 'max_depth': 12, 'max_le...           0.816000   \n",
       "1200  {'criterion': 'gini', 'max_depth': 11, 'max_le...           0.816000   \n",
       "944   {'criterion': 'gini', 'max_depth': 9, 'max_lea...           0.825397   \n",
       "2464  {'criterion': 'entropy', 'max_depth': 10, 'max...           0.848485   \n",
       "2592  {'criterion': 'entropy', 'max_depth': 11, 'max...           0.848485   \n",
       "\n",
       "      split1_test_score  split2_test_score  split3_test_score  \\\n",
       "1328           0.748092           0.779412           0.781250   \n",
       "1200           0.748092           0.761194           0.781250   \n",
       "944            0.748092           0.740157           0.777778   \n",
       "2464           0.763359           0.722689           0.754098   \n",
       "2592           0.763359           0.722689           0.754098   \n",
       "\n",
       "      mean_test_score  std_test_score  rank_test_score  \n",
       "1328         0.781188        0.024033                1  \n",
       "1200         0.776634        0.025613                2  \n",
       "944          0.772856        0.033419                3  \n",
       "2464         0.772158        0.046574                4  \n",
       "2592         0.772158        0.046574                4  "
      ]
     },
     "execution_count": 33,
     "metadata": {},
     "output_type": "execute_result"
    }
   ],
   "source": [
    "topk_df = score_df.nlargest(5, 'mean_test_score')\n",
    "topk_df"
   ]
  },
  {
   "cell_type": "code",
   "execution_count": 34,
   "id": "771cbf4f",
   "metadata": {},
   "outputs": [
    {
     "data": {
      "text/plain": [
       "{'criterion': 'gini',\n",
       " 'max_depth': 12,\n",
       " 'max_leaf_nodes': 25,\n",
       " 'min_samples_leaf': 2}"
      ]
     },
     "execution_count": 34,
     "metadata": {},
     "output_type": "execute_result"
    }
   ],
   "source": [
    "topk_df.iloc[0]['params']"
   ]
  },
  {
   "cell_type": "code",
   "execution_count": null,
   "id": "760a250a",
   "metadata": {},
   "outputs": [],
   "source": []
  },
  {
   "cell_type": "code",
   "execution_count": 35,
   "id": "0ac04d03",
   "metadata": {},
   "outputs": [
    {
     "data": {
      "text/plain": [
       "DecisionTreeClassifier(max_depth=12, max_leaf_nodes=25, min_samples_leaf=2,\n",
       "                       random_state=123)"
      ]
     },
     "execution_count": 35,
     "metadata": {},
     "output_type": "execute_result"
    }
   ],
   "source": [
    "dt_best = gs.best_estimator_\n",
    "dt_best"
   ]
  },
  {
   "cell_type": "code",
   "execution_count": 38,
   "id": "9abcf004",
   "metadata": {},
   "outputs": [
    {
     "name": "stdout",
     "output_type": "stream",
     "text": [
      "              precision    recall  f1-score   support\n",
      "\n",
      "           0       0.85      0.84      0.85       112\n",
      "           1       0.74      0.76      0.75        67\n",
      "\n",
      "    accuracy                           0.81       179\n",
      "   macro avg       0.80      0.80      0.80       179\n",
      "weighted avg       0.81      0.81      0.81       179\n",
      "\n"
     ]
    }
   ],
   "source": [
    "from sklearn.metrics import classification_report\n",
    "\n",
    "print(classification_report(dt_best.predict(df_test[X_all]), df_test['Survived']))"
   ]
  },
  {
   "cell_type": "code",
   "execution_count": 41,
   "id": "f6072a33",
   "metadata": {},
   "outputs": [
    {
     "data": {
      "text/plain": [
       "0.8002398720682303"
      ]
     },
     "execution_count": 41,
     "metadata": {},
     "output_type": "execute_result"
    }
   ],
   "source": [
    "from sklearn.metrics import roc_auc_score, confusion_matrix, accuracy_score\n",
    "\n",
    "roc_auc_score(dt_best.predict(df_test[X_all]), df_test['Survived'])"
   ]
  },
  {
   "cell_type": "code",
   "execution_count": 42,
   "id": "563fa043",
   "metadata": {},
   "outputs": [
    {
     "data": {
      "text/plain": [
       "array([[94, 18],\n",
       "       [16, 51]], dtype=int64)"
      ]
     },
     "execution_count": 42,
     "metadata": {},
     "output_type": "execute_result"
    }
   ],
   "source": [
    "confusion_matrix(dt_best.predict(df_test[X_all]), df_test['Survived'])"
   ]
  },
  {
   "cell_type": "code",
   "execution_count": 43,
   "id": "939bf5c1",
   "metadata": {},
   "outputs": [
    {
     "data": {
      "text/plain": [
       "0.8100558659217877"
      ]
     },
     "execution_count": 43,
     "metadata": {},
     "output_type": "execute_result"
    }
   ],
   "source": [
    "accuracy_score(dt_best.predict(df_test[X_all]), df_test['Survived'])"
   ]
  },
  {
   "cell_type": "code",
   "execution_count": null,
   "id": "0d544d53",
   "metadata": {},
   "outputs": [],
   "source": []
  }
 ],
 "metadata": {
  "kernelspec": {
   "display_name": "Python 3 (ipykernel)",
   "language": "python",
   "name": "python3"
  },
  "language_info": {
   "codemirror_mode": {
    "name": "ipython",
    "version": 3
   },
   "file_extension": ".py",
   "mimetype": "text/x-python",
   "name": "python",
   "nbconvert_exporter": "python",
   "pygments_lexer": "ipython3",
   "version": "3.9.13"
  }
 },
 "nbformat": 4,
 "nbformat_minor": 5
}
